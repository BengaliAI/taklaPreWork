{
 "cells": [
  {
   "cell_type": "code",
   "execution_count": 7,
   "id": "vocal-lightning",
   "metadata": {},
   "outputs": [],
   "source": [
    "import pandas as pd\n",
    "from glob import glob\n",
    "from utils.graphemeParser import GraphemeParser\n",
    "import numpy as np\n",
    "from utils.clean_word import clean_word"
   ]
  },
  {
   "cell_type": "code",
   "execution_count": 8,
   "id": "bottom-arcade",
   "metadata": {},
   "outputs": [],
   "source": [
    "def clean_word(word):      \n",
    "    # remove non-bengali unicode\n",
    "    start = 0x0980\n",
    "    end = 0x09FF\n",
    "    \n",
    "    word = ''.join([s for s in word if (ord(s) >= start and ord(s)<=end) or s =='\\u200d'])\n",
    "    \n",
    "    # remove hoshonto at the end\n",
    "    \n",
    "    if word[-1] == '্':\n",
    "        word = word[:-1] \n",
    "        \n",
    "    # broken vowel diacritic\n",
    "    # e-kar+a-kar = o-kar\n",
    "    word = word.replace('ে'+'া', 'ো')\n",
    "    # e-kar+e-kar = ou-kar\n",
    "    word = word.replace('ে'+'ৗ', 'ৌ')\n",
    "    \n",
    "    return word"
   ]
  },
  {
   "cell_type": "code",
   "execution_count": 9,
   "id": "false-fishing",
   "metadata": {},
   "outputs": [],
   "source": [
    "path = 'unique_words/unique_words_anondoB.xlsx'\n",
    "df = pd.read_excel(path)"
   ]
  },
  {
   "cell_type": "code",
   "execution_count": 10,
   "id": "horizontal-clearing",
   "metadata": {},
   "outputs": [],
   "source": [
    "word_list  = list(df.word.values)"
   ]
  },
  {
   "cell_type": "code",
   "execution_count": 11,
   "id": "abstract-expansion",
   "metadata": {},
   "outputs": [
    {
     "data": {
      "text/plain": [
       "['অ', 'অঁসম্বল', 'অংক', 'অংশ', 'অংশই']"
      ]
     },
     "execution_count": 11,
     "metadata": {},
     "output_type": "execute_result"
    }
   ],
   "source": [
    "word_list[:5]"
   ]
  },
  {
   "cell_type": "code",
   "execution_count": 12,
   "id": "statistical-maker",
   "metadata": {},
   "outputs": [
    {
     "name": "stderr",
     "output_type": "stream",
     "text": [
      "/home/reasat/miniconda3/lib/python3.7/site-packages/pandas/core/frame.py:4315: SettingWithCopyWarning: \n",
      "A value is trying to be set on a copy of a slice from a DataFrame\n",
      "\n",
      "See the caveats in the documentation: https://pandas.pydata.org/pandas-docs/stable/user_guide/indexing.html#returning-a-view-versus-a-copy\n",
      "  errors=errors,\n"
     ]
    }
   ],
   "source": [
    "path_class_map = 'utils/class_map.csv'\n",
    "df_map = pd.read_csv(path_class_map, encoding = 'utf-8')\n",
    "df_root = df_map.groupby('component_type').get_group('grapheme_root')\n",
    "df_root.set_index('label', inplace = True)\n",
    "df_root.drop(columns=['component_type'], inplace = True)\n",
    "df_vd = df_map.groupby('component_type').get_group('vowel_diacritic')\n",
    "df_vd.set_index('label', inplace = True)\n",
    "df_vd.drop(columns=['component_type'], inplace = True)\n",
    "df_cd = df_map.groupby('component_type').get_group('consonant_diacritic')\n",
    "df_cd.set_index('label', inplace = True)\n",
    "df_cd.drop(columns=['component_type'], inplace = True)"
   ]
  },
  {
   "cell_type": "code",
   "execution_count": 13,
   "id": "professional-ceremony",
   "metadata": {},
   "outputs": [],
   "source": [
    "graphemeparser = GraphemeParser(df_root.values, df_vd.values, df_cd.values)"
   ]
  },
  {
   "cell_type": "code",
   "execution_count": 16,
   "id": "norman-shooting",
   "metadata": {
    "scrolled": false
   },
   "outputs": [
    {
     "name": "stdout",
     "output_type": "stream",
     "text": [
      "আটপৌরে\n",
      "কৌশল\n",
      "পৌঁছে\n",
      "পৌঁছেছে\n"
     ]
    }
   ],
   "source": [
    "for word in word_list:\n",
    "    if type(word) is str:\n",
    "        if 'ে'+'ৗ' in word:\n",
    "            print(word)\n",
    "#         word = clean_word(word)\n",
    "       \n",
    "#         graphemes = graphemeparser.word2grapheme(word)\n",
    "#         comps_all = [graphemeparser.grapheme2component(grp) for grp in graphemes]\n",
    "\n",
    "#         grapheme_rec_all = [graphemeparser.comp2grapheme(comp)  for comp in comps_all]\n",
    "\n",
    "#         word_rec = graphemeparser.grapheme2word(grapheme_rec_all)\n",
    "\n",
    "#     #     if True:\n",
    "\n",
    "#         if word != word_rec:\n",
    "#             # print(repr('শ্য়পূ'))\n",
    "\n",
    "#             print('==================================================================')\n",
    "\n",
    "#             print('word: {}, unicodes: {}'.format(word, [uc for uc in word]))\n",
    "#             print('word_reconstructed: {}, unicodes: {}'.format(word_rec,[uc for uc in word_rec]))\n",
    "#             print('extracted graphemes', graphemes)\n",
    "#             for grp in graphemes:\n",
    "#                 print('grapheme: {}, unicodes: {}, components: {}'.format(\n",
    "#                     grp,\n",
    "#                     [uc for uc in grp],\n",
    "#                     graphemeparser.grapheme2component(grp)\n",
    "#                 ))\n",
    "#     #             break\n",
    "#             # print('reconstructed')"
   ]
  }
 ],
 "metadata": {
  "kernelspec": {
   "display_name": "Python 3",
   "language": "python",
   "name": "python3"
  },
  "language_info": {
   "codemirror_mode": {
    "name": "ipython",
    "version": 3
   },
   "file_extension": ".py",
   "mimetype": "text/x-python",
   "name": "python",
   "nbconvert_exporter": "python",
   "pygments_lexer": "ipython3",
   "version": "3.7.4"
  }
 },
 "nbformat": 4,
 "nbformat_minor": 5
}
