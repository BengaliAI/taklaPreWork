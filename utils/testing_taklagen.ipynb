{
 "cells": [
  {
   "cell_type": "code",
   "execution_count": 1,
   "id": "ea9466e2",
   "metadata": {},
   "outputs": [
    {
     "data": {
      "text/html": [
       "<div>\n",
       "<style scoped>\n",
       "    .dataframe tbody tr th:only-of-type {\n",
       "        vertical-align: middle;\n",
       "    }\n",
       "\n",
       "    .dataframe tbody tr th {\n",
       "        vertical-align: top;\n",
       "    }\n",
       "\n",
       "    .dataframe thead th {\n",
       "        text-align: right;\n",
       "    }\n",
       "</style>\n",
       "<table border=\"1\" class=\"dataframe\">\n",
       "  <thead>\n",
       "    <tr style=\"text-align: right;\">\n",
       "      <th></th>\n",
       "      <th>word</th>\n",
       "      <th>standard</th>\n",
       "      <th>FVC</th>\n",
       "      <th>Short</th>\n",
       "      <th>Hremoved</th>\n",
       "    </tr>\n",
       "  </thead>\n",
       "  <tbody>\n",
       "    <tr>\n",
       "      <th>0</th>\n",
       "      <td>যেকোনো</td>\n",
       "      <td>zekono</td>\n",
       "      <td>zekano</td>\n",
       "      <td>zkno</td>\n",
       "      <td>zekono</td>\n",
       "    </tr>\n",
       "    <tr>\n",
       "      <th>1</th>\n",
       "      <td>সমস্যা</td>\n",
       "      <td>shmoshya</td>\n",
       "      <td>shmashya</td>\n",
       "      <td>shmshya</td>\n",
       "      <td>shmoshya</td>\n",
       "    </tr>\n",
       "    <tr>\n",
       "      <th>2</th>\n",
       "      <td>সমাধানের</td>\n",
       "      <td>shmadhaner</td>\n",
       "      <td>shmudhanar</td>\n",
       "      <td>shmdhnr</td>\n",
       "      <td>shmadhaner</td>\n",
       "    </tr>\n",
       "    <tr>\n",
       "      <th>3</th>\n",
       "      <td>জন্য</td>\n",
       "      <td>jonn</td>\n",
       "      <td>jann</td>\n",
       "      <td>jnn</td>\n",
       "      <td>jonn</td>\n",
       "    </tr>\n",
       "    <tr>\n",
       "      <th>4</th>\n",
       "      <td>দরকার</td>\n",
       "      <td>dorokar</td>\n",
       "      <td>darokar</td>\n",
       "      <td>drkr</td>\n",
       "      <td>dorokar</td>\n",
       "    </tr>\n",
       "    <tr>\n",
       "      <th>5</th>\n",
       "      <td>আগে</td>\n",
       "      <td>age</td>\n",
       "      <td>aga</td>\n",
       "      <td>age</td>\n",
       "      <td>age</td>\n",
       "    </tr>\n",
       "    <tr>\n",
       "      <th>6</th>\n",
       "      <td>সমস্যার</td>\n",
       "      <td>shmoshyar</td>\n",
       "      <td>shmashyar</td>\n",
       "      <td>shmshyr</td>\n",
       "      <td>shmosyar</td>\n",
       "    </tr>\n",
       "    <tr>\n",
       "      <th>7</th>\n",
       "      <td>মূল</td>\n",
       "      <td>mul</td>\n",
       "      <td>mal</td>\n",
       "      <td>ml</td>\n",
       "      <td>mul</td>\n",
       "    </tr>\n",
       "    <tr>\n",
       "      <th>8</th>\n",
       "      <td>শনাক্ত</td>\n",
       "      <td>shonakt</td>\n",
       "      <td>shanukt</td>\n",
       "      <td>shnkt</td>\n",
       "      <td>shonakt</td>\n",
       "    </tr>\n",
       "    <tr>\n",
       "      <th>9</th>\n",
       "      <td>করা</td>\n",
       "      <td>kora</td>\n",
       "      <td>kora</td>\n",
       "      <td>kra</td>\n",
       "      <td>kora</td>\n",
       "    </tr>\n",
       "  </tbody>\n",
       "</table>\n",
       "</div>"
      ],
      "text/plain": [
       "       word    standard         FVC    Short    Hremoved\n",
       "0    যেকোনো      zekono      zekano     zkno      zekono\n",
       "1    সমস্যা    shmoshya    shmashya  shmshya    shmoshya\n",
       "2  সমাধানের  shmadhaner  shmudhanar  shmdhnr  shmadhaner\n",
       "3      জন্য        jonn        jann      jnn        jonn\n",
       "4     দরকার     dorokar     darokar     drkr     dorokar\n",
       "5       আগে         age         aga      age         age\n",
       "6   সমস্যার   shmoshyar   shmashyar  shmshyr    shmosyar\n",
       "7       মূল         mul         mal       ml         mul\n",
       "8    শনাক্ত     shonakt     shanukt    shnkt     shonakt\n",
       "9       করা        kora        kora      kra        kora"
      ]
     },
     "execution_count": 1,
     "metadata": {},
     "output_type": "execute_result"
    }
   ],
   "source": [
    "from taklaGen import TalkaGenerator,RandomTaklaGenerator\n",
    "RTG=RandomTaklaGenerator()\n",
    "TG=TalkaGenerator(\"maps.json\",\n",
    "                  \"transliteration.json\",\n",
    "                  \"class_map.csv\")\n",
    "TG.createTakla(\"যেকোনো সমস্যা সমাধানের জন্য দরকার আগে সমস্যার মূল শনাক্ত করা\")\n",
    "TG.data\n"
   ]
  },
  {
   "cell_type": "code",
   "execution_count": 2,
   "id": "fda2b7a0",
   "metadata": {},
   "outputs": [
    {
     "data": {
      "text/plain": [
       "'zekono shmoshya shmadhaner jonn dorokar age shmoshyar mul shonakt kora'"
      ]
     },
     "execution_count": 2,
     "metadata": {},
     "output_type": "execute_result"
    }
   ],
   "source": [
    "text=\" \".join(TG.data.standard.tolist())\n",
    "text"
   ]
  },
  {
   "cell_type": "code",
   "execution_count": 3,
   "id": "0c548932",
   "metadata": {},
   "outputs": [
    {
     "data": {
      "text/plain": [
       "['zeokaunu smoesyoi smaadhoneer jenn dareekir augia smeshyar miul sunikt kuru',\n",
       " 'zekono shmochya shmadhaner jonn dorokar age chmochyar mul shonact kora',\n",
       " 'gecono chmochya shmadhaner zonn dorokar aje chmochyar mul chonact qora',\n",
       " 'zacna chmshy shmodhenr geann dureeqr iagau chmshyuar mel shnoukt krei',\n",
       " 'zekunou smeishyi smiodeinier jounn darauker oigia smasyar maol shanikt koroi']"
      ]
     },
     "execution_count": 3,
     "metadata": {},
     "output_type": "execute_result"
    }
   ],
   "source": [
    "RTG.create_takla(text=text,\n",
    "                 num_samples=5,\n",
    "                 num_max_ops=2,\n",
    "                 num_max_degree=2)\n"
   ]
  }
 ],
 "metadata": {
  "kernelspec": {
   "display_name": "bangla",
   "language": "python",
   "name": "bangla"
  },
  "language_info": {
   "codemirror_mode": {
    "name": "ipython",
    "version": 3
   },
   "file_extension": ".py",
   "mimetype": "text/x-python",
   "name": "python",
   "nbconvert_exporter": "python",
   "pygments_lexer": "ipython3",
   "version": "3.8.5"
  }
 },
 "nbformat": 4,
 "nbformat_minor": 5
}
